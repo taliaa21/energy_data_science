{
 "cells": [
  {
   "cell_type": "markdown",
   "metadata": {},
   "source": [
    "## HW 3: Optimal Economic Dispatch in Distribution Feeders with Renewables\n",
    "Talia Arauzo\n",
    "3/19/21"
   ]
  },
  {
   "cell_type": "code",
   "execution_count": 1,
   "metadata": {},
   "outputs": [],
   "source": [
    "# Import Libraries\n",
    "import numpy as np\n",
    "import matplotlib.pyplot as plt\n",
    "from cvxpy import *\n",
    "%matplotlib inline\n",
    "import pandas as pd"
   ]
  },
  {
   "cell_type": "markdown",
   "metadata": {},
   "source": [
    "### Import Data"
   ]
  },
  {
   "cell_type": "markdown",
   "metadata": {},
   "source": [
    "Node data"
   ]
  },
  {
   "cell_type": "code",
   "execution_count": 2,
   "metadata": {},
   "outputs": [],
   "source": [
    "node_df = pd.read_excel(\"data/HW_Data.xls\", sheet_name = 0, header = 2).drop([0, 14]).astype('float64')"
   ]
  },
  {
   "cell_type": "markdown",
   "metadata": {},
   "source": [
    "Edge data"
   ]
  },
  {
   "cell_type": "code",
   "execution_count": 3,
   "metadata": {},
   "outputs": [],
   "source": [
    "line_df = pd.read_excel(\"data/HW_Data.xls\", sheet_name = 1)\n",
    "# Resistance data\n",
    "resistance_df = line_df.iloc[4:17, 1:14].reset_index(drop = True).astype('float64')\n",
    "resistance_df.columns = resistance_df.index.values\n",
    "# Reactance data\n",
    "reactance_df = line_df.iloc[22:35, 1:14].reset_index(drop = True).astype('float64')\n",
    "reactance_df.columns = reactance_df.index.values\n",
    "# Max current data\n",
    "max_current_df = line_df.iloc[40:53, 1:14].reset_index(drop = True).astype('float64')\n",
    "max_current_df.columns = max_current_df.index.values"
   ]
  },
  {
   "cell_type": "markdown",
   "metadata": {},
   "source": [
    "Set data"
   ]
  },
  {
   "cell_type": "code",
   "execution_count": 4,
   "metadata": {},
   "outputs": [],
   "source": [
    "set_df = pd.read_excel(\"data/HW_Data.xls\", sheet_name = 2, header = 1, usecols = [0, 1]).astype('float64')"
   ]
  },
  {
   "cell_type": "markdown",
   "metadata": {},
   "source": [
    "### Test Feeder Parameters"
   ]
  },
  {
   "cell_type": "markdown",
   "metadata": {},
   "source": [
    "Node data"
   ]
  },
  {
   "cell_type": "code",
   "execution_count": 56,
   "metadata": {},
   "outputs": [],
   "source": [
    "# l_j^P: Active power consumption [MW]\n",
    "l_P = node_df['l_j^P'].values\n",
    "\n",
    "# l_j^Q: Reactive power consumption [MVAr]\n",
    "l_Q = node_df['l_j^Q'].values\n",
    "\n",
    "# l_j^S: Apparent power consumption [MVA]\n",
    "l_S = np.sqrt(l_P**2 + l_Q**2)\n",
    "\n",
    "# s_j,max: Maximal generating power [MW]\n",
    "s_max = node_df['s_j,max'].values\n",
    "\n",
    "# c_j: Marginal generation cost [USD/MW]\n",
    "c = node_df['c_j'].values\n",
    "\n",
    "# V_min, V_max: Minimum and maximum nodal voltages [V]\n",
    "v_min = 0.95\n",
    "v_max = 1.05"
   ]
  },
  {
   "cell_type": "markdown",
   "metadata": {},
   "source": [
    "Edge Data"
   ]
  },
  {
   "cell_type": "code",
   "execution_count": 6,
   "metadata": {},
   "outputs": [],
   "source": [
    "# r_ij: Resistance [p.u.]\n",
    "r = resistance_df.to_numpy()\n",
    "\n",
    "# x_ij: Reactance [p.u.]\n",
    "x = reactance_df.to_numpy()\n",
    "\n",
    "# I_max_ij: Maximal line current [p.u.]\n",
    "I_max = max_current_df.to_numpy()\n",
    "\n",
    "# A_ij: Adjacency matrix; A_ij = 1 if i is parent of j\n",
    "A =  np.array([\n",
    "[1, 1, 0, 0, 0, 0, 0, 0, 0, 0, 0, 0, 0],\n",
    "[0, 0, 1, 0, 1, 0, 1, 0, 0, 0, 0, 0, 0],\n",
    "[0, 0, 0, 1, 0, 0, 0, 0, 0, 0, 0, 0, 0],\n",
    "[0, 0, 0, 0, 0, 0, 0, 0, 0, 0, 0, 0, 0],\n",
    "[0, 0, 0, 0, 0, 1, 0, 0, 0, 0, 0, 0, 0],\n",
    "[0, 0, 0, 0, 0, 0, 0, 0, 0, 0, 0, 0, 0],\n",
    "[0, 0, 0, 0, 0, 0, 0, 1, 1, 0, 1, 0, 0],\n",
    "[0, 0, 0, 0, 0, 0, 0, 0, 0, 0, 0, 0, 0],\n",
    "[0, 0, 0, 0, 0, 0, 0, 0, 0, 1, 0, 0, 0],\n",
    "[0, 0, 0, 0, 0, 0, 0, 0, 0, 0, 0, 0, 0],\n",
    "[0, 0, 0, 0, 0, 0, 0, 0, 0, 0, 0, 1, 1],\n",
    "[0, 0, 0, 0, 0, 0, 0, 0, 0, 0, 0, 0, 0],\n",
    "[0, 0, 0, 0, 0, 0, 0, 0, 0, 0, 0, 0, 0]])"
   ]
  },
  {
   "cell_type": "markdown",
   "metadata": {},
   "source": [
    "Set Data"
   ]
  },
  {
   "cell_type": "code",
   "execution_count": 7,
   "metadata": {},
   "outputs": [],
   "source": [
    "# List of node indices\n",
    "j_idx = np.arange(13)\n",
    "\n",
    "# \\rho(j): Parent node of node j\n",
    "rho = set_df[\"rho(j)\"].values"
   ]
  },
  {
   "cell_type": "markdown",
   "metadata": {},
   "source": [
    "### Problem 1: Network Parameters"
   ]
  },
  {
   "cell_type": "code",
   "execution_count": 8,
   "metadata": {},
   "outputs": [
    {
     "data": {
      "image/png": "[encoded data removed]",
      "text/plain": [
       "<Figure size 1200x320 with 1 Axes>"
      ]
     },
     "metadata": {},
     "output_type": "display_data"
    }
   ],
   "source": [
    "# Plot active and reactive power consumption\n",
    "width = 0.4\n",
    "fig, ax = plt.subplots(figsize=(15, 4), dpi=80, facecolor='w', edgecolor='k')\n",
    "ax.bar(j_idx - width/2, l_P, width, label='Active', color = 'magenta')\n",
    "ax.bar(j_idx + width/2, l_Q, width, label='Reactive', color = 'cyan')\n",
    "ax.set_xticks(j_idx)\n",
    "ax.set_xlabel('Nodes')\n",
    "ax.set_ylabel('Power Consumption [MW]')\n",
    "ax.set_title('Nodal Power Consumption')\n",
    "ax.legend()\n",
    "plt.show();"
   ]
  },
  {
   "cell_type": "markdown",
   "metadata": {},
   "source": [
    "### Problem 2: Balancing Supply & Demand without a Network"
   ]
  },
  {
   "cell_type": "code",
   "execution_count": 9,
   "metadata": {},
   "outputs": [
    {
     "name": "stdout",
     "output_type": "stream",
     "text": [
      "------------------- PROBLEM 2 --------------------\n",
      "--------------------------------------------------\n",
      "optimal\n",
      "Minimum Generating Cost : 255.36 USD\n",
      " \n",
      "Node 0 [Grid]  Gen Power : p_0 = 0.901 MW | q_0 = 0.546 MW | s_0 = 1.054 MW\n",
      "Node 3 [Gas]   Gen Power : p_3 = 0.000 MW | q_3 = 0.000 MW | s_3 = 0.000 MW\n",
      "Node 9 [Solar] Gen Power : p_9 = 2.565 MW | q_9 = 1.556 MW | s_9 = 3.000 MW\n",
      " \n",
      "Total active power   : 3.466 MW   consumed | 3.466 MW   generated\n",
      "Total reactive power : 2.102 MVAr consumed | 2.102 MVAr generated\n",
      "Total apparent power : 4.063 MVA  consumed | 4.054 MVA  generated\n"
     ]
    }
   ],
   "source": [
    "# Assumptions:\n",
    "#   - Disregard the entire network diagram\n",
    "#   - Relax apparent power generation equation into inequality\n",
    "#   - Balance supply and demand, without any network considerations\n",
    "#   - Goal is to minimize generation costs, given by c^T s\n",
    "\n",
    "# Solve with CVXPY\n",
    "\n",
    "# Define optimization vars\n",
    "p = Variable(13)\n",
    "q = Variable(13)\n",
    "s = Variable(13)\n",
    "\n",
    "# Define objective function\n",
    "objective = Minimize(c.T @ s)\n",
    "\n",
    "# Define constraints\n",
    "# Apparent Power Limits\n",
    "constraints = [s <= s_max]\n",
    "\n",
    "# Balance power generation with power consumption\n",
    "constraints += [sum(p) == sum(l_P)]\n",
    "constraints += [sum(q) == sum(l_Q)]\n",
    "\n",
    "# Loop over each node\n",
    "for jj in j_idx:\n",
    "    \n",
    "    # Non-negative power generation\n",
    "    constraints += [p[jj] >= 0]\n",
    "    constraints += [q[jj] >= 0]\n",
    "\n",
    "    # Compute apparent power from active & reactive power\n",
    "    constraints += [SOC(s[jj], vstack([p[jj], q[jj]]))]\n",
    "\n",
    "# Define problem and solve\n",
    "prob2 = Problem(objective, constraints)\n",
    "prob2.solve()\n",
    "\n",
    "# Output Results\n",
    "print(\"------------------- PROBLEM 2 --------------------\")\n",
    "print(\"--------------------------------------------------\")\n",
    "print(prob2.status)\n",
    "print(\"Minimum Generating Cost : %4.2f\"%(prob2.value),\"USD\")\n",
    "print(\" \")\n",
    "print(\"Node 0 [Grid]  Gen Power : p_0 = %1.3f\"%(p[0].value), \"MW | q_0 = %1.3f\"%(q[0].value), \"MW | s_0 = %1.3f\"%(s[0].value),\"MW\")\n",
    "print(\"Node 3 [Gas]   Gen Power : p_3 = %1.3f\"%(p[3].value), \"MW | q_3 = %1.3f\"%(q[3].value), \"MW | s_3 = %1.3f\"%(s[3].value),\"MW\")\n",
    "print(\"Node 9 [Solar] Gen Power : p_9 = %1.3f\"%(p[9].value), \"MW | q_9 = %1.3f\"%(q[9].value), \"MW | s_9 = %1.3f\"%(s[9].value),\"MW\")\n",
    "print(\" \")\n",
    "print(\"Total active power   : %1.3f\"%(np.sum(l_P)),\"MW   consumed | %1.3f\"%(np.sum(p.value)),\"MW   generated\")\n",
    "print(\"Total reactive power : %1.3f\"%(np.sum(l_Q)),\"MVAr consumed | %1.3f\"%(np.sum(q.value)),\"MVAr generated\")\n",
    "print(\"Total apparent power : %1.3f\"%(np.sum(l_S)),\"MVA  consumed | %1.3f\"%(np.sum(s.value)),\"MVA  generated\")"
   ]
  },
  {
   "cell_type": "markdown",
   "metadata": {},
   "source": [
    "### Problem 3: Add Line Power Flows"
   ]
  },
  {
   "cell_type": "code",
   "execution_count": 10,
   "metadata": {},
   "outputs": [
    {
     "name": "stdout",
     "output_type": "stream",
     "text": [
      "------------------- PROBLEM 3 --------------------\n",
      "--------------------------------------------------\n",
      "optimal\n",
      "Minimum Generating Cost : 255.36 USD\n",
      " \n",
      "Node 0 [Grid]  Gen Power : p_0 = 0.901 MW | q_0 = 0.546 MW | s_0 = 1.054 MW || mu_s0 =   0 USD/MW\n",
      "Node 3 [Gas]   Gen Power : p_3 = 0.000 MW | q_3 = 0.000 MW | s_3 = 0.000 MW || mu_s4 =   0 USD/MW\n",
      "Node 9 [Solar] Gen Power : p_9 = 2.565 MW | q_9 = 1.556 MW | s_9 = 3.000 MW || mu_s9 =  50 USD/MW\n",
      " \n",
      "Total active power   : 3.466 MW   consumed | 3.466 MW   generated\n",
      "Total reactive power : 2.102 MVAr consumed | 2.102 MVAr generated\n",
      "Total apparent power : 4.063 MVA  consumed | 4.054 MVA  generated\n"
     ]
    }
   ],
   "source": [
    "# Assumptions:\n",
    "#   - Disregard L_ij, the squared magnitude of complex line current\n",
    "#   - Disregard nodal voltage equation\n",
    "#   - Disregard nodal voltage limits\n",
    "#   - Disregard maximum line current\n",
    "#   - Relax apparent power generation equation into inequality\n",
    "#   - Goal is to minimize generation costs, given by c^T s\n",
    "\n",
    "# Solve with CVXPY\n",
    "\n",
    "# Define optimization vars\n",
    "p = Variable(13)\n",
    "q = Variable(13)\n",
    "s = Variable(13)\n",
    "P = Variable((13, 13))\n",
    "Q = Variable((13, 13))\n",
    "\n",
    "# Define objective function\n",
    "objective = Minimize(c.T @ s)\n",
    "\n",
    "# Define constraints\n",
    "# Apparent Power Limits\n",
    "constraints = [s <= s_max]\n",
    "\n",
    "# Balance power generation with power consumption\n",
    "constraints += [sum(p) == sum(l_P)]\n",
    "constraints += [sum(q) == sum(l_Q)]\n",
    "\n",
    "# Boundary condition for power line flows\n",
    "constraints += [P[0,0] == 0, Q[0,0] == 0]\n",
    "\n",
    "# Loop over each node\n",
    "for jj in j_idx:\n",
    "    \n",
    "    # Non-negative power generation and flows\n",
    "    constraints += [p[jj] >= 0]\n",
    "    constraints += [q[jj] >= 0]\n",
    "    \n",
    "    # Parent node, i = \\rho(j)\n",
    "    i = int(rho[jj])\n",
    "    \n",
    "    # Line Power Flows\n",
    "    constraints += [P[i,jj] == (l_P[jj] - p[jj]) + (A[jj,:] @ P[jj,:])]\n",
    "    constraints += [Q[i,jj] == (l_Q[jj] - q[jj]) + (A[jj,:] @ Q[jj,:])]\n",
    "\n",
    "    # Compute apparent power from active & reactive power\n",
    "    constraints += [s[jj] >= norm(vstack([p[jj], q[jj]]))]\n",
    "\n",
    "# Define problem and solve\n",
    "prob3 = Problem(objective, constraints)\n",
    "prob3.solve()\n",
    "\n",
    "# Output Results\n",
    "print(\"------------------- PROBLEM 3 --------------------\")\n",
    "print(\"--------------------------------------------------\")\n",
    "print(prob3.status)\n",
    "print(\"Minimum Generating Cost : %4.2f\"%(prob3.value),\"USD\")\n",
    "print(\" \")\n",
    "print(\"Node 0 [Grid]  Gen Power : p_0 = %1.3f\"%(p[0].value), \"MW | q_0 = %1.3f\"%(q[0].value), \"MW | s_0 = %1.3f\"%(s[0].value),\"MW || mu_s0 = %3.0f\"%(constraints[0].dual_value[0]), \"USD/MW\")\n",
    "print(\"Node 3 [Gas]   Gen Power : p_3 = %1.3f\"%(p[3].value), \"MW | q_3 = %1.3f\"%(q[3].value), \"MW | s_3 = %1.3f\"%(s[3].value),\"MW || mu_s4 = %3.0f\"%(constraints[0].dual_value[3]), \"USD/MW\")\n",
    "print(\"Node 9 [Solar] Gen Power : p_9 = %1.3f\"%(p[9].value), \"MW | q_9 = %1.3f\"%(q[9].value), \"MW | s_9 = %1.3f\"%(s[9].value),\"MW || mu_s9 = %3.0f\"%(constraints[0].dual_value[9]), \"USD/MW\")\n",
    "print(\" \")\n",
    "print(\"Total active power   : %1.3f\"%(np.sum(l_P)),\"MW   consumed | %1.3f\"%(np.sum(p.value)),\"MW   generated\")\n",
    "print(\"Total reactive power : %1.3f\"%(np.sum(l_Q)),\"MVAr consumed | %1.3f\"%(np.sum(q.value)),\"MVAr generated\")\n",
    "print(\"Total apparent power : %1.3f\"%(np.sum(l_S)),\"MVA  consumed | %1.3f\"%(np.sum(s.value)),\"MVA  generated\")"
   ]
  },
  {
   "cell_type": "markdown",
   "metadata": {},
   "source": [
    "### Problem 4: Complete Optimal Economic Dispatch"
   ]
  },
  {
   "cell_type": "code",
   "execution_count": 57,
   "metadata": {},
   "outputs": [
    {
     "name": "stdout",
     "output_type": "stream",
     "text": [
      "------------------- PROBLEM 4 --------------------\n",
      "--------------------------------------------------\n",
      "optimal\n",
      "Minimum Generating Cost : 299.69 USD\n",
      " \n",
      "Node 0 [Grid]  Gen Power : p_0 = 1.568 MW | q_0 = 0.985 MW | s_0 = 1.852 MW || mu_s0 =   0 USD/MW\n",
      "Node 3 [Gas]   Gen Power : p_3 = 0.000 MW | q_3 = 0.000 MW | s_3 = 0.000 MW || mu_s4 =   0 USD/MW\n",
      "Node 9 [Solar] Gen Power : p_9 = 1.941 MW | q_9 = 1.216 MW | s_9 = 2.290 MW || mu_s9 =   0 USD/MW\n",
      " \n",
      "Total active power   : 3.466 MW   consumed | 3.509 MW   generated\n",
      "Total reactive power : 2.102 MVAr consumed | 2.201 MVAr generated\n",
      "Total apparent power : 4.063 MVA  consumed | 4.142 MVA  generated\n",
      " \n",
      "Node  0 Voltage : 1.000 p.u.\n",
      "Node  1 Voltage : 0.967 p.u.\n",
      "Node  2 Voltage : 0.963 p.u.\n",
      "Node  3 Voltage : 0.963 p.u.\n",
      "Node  4 Voltage : 0.962 p.u.\n",
      "Node  5 Voltage : 0.960 p.u.\n",
      "Node  6 Voltage : 0.957 p.u.\n",
      "Node  7 Voltage : 0.957 p.u.\n",
      "Node  8 Voltage : 0.957 p.u.\n",
      "Node  9 Voltage : 0.964 p.u.\n",
      "Node 10 Voltage : 0.955 p.u.\n",
      "Node 11 Voltage : 0.954 p.u.\n",
      "Node 12 Voltage : 0.953 p.u.\n"
     ]
    }
   ],
   "source": [
    "# Assumptions:\n",
    "#   - Add back all previously disregarded terms and constraints\n",
    "#   - Relax squared line current and apparent power generation equations into inequalities\n",
    "#   - Goal is to minimize generation costs, given by c^T s\n",
    "\n",
    "# Solve with CVXPY\n",
    "\n",
    "# Define optimization vars\n",
    "p = Variable(13)\n",
    "q = Variable(13)\n",
    "s = Variable(13)\n",
    "P = Variable((13, 13))\n",
    "Q = Variable((13, 13))\n",
    "V = Variable(13)\n",
    "L = Variable((13, 13))\n",
    "\n",
    "# Define objective function\n",
    "objective = Minimize(c.T @ s)\n",
    "\n",
    "# Define constraints\n",
    "# Apparent Power Limits\n",
    "constraints = [s <= s_max]\n",
    "\n",
    "# Nodal voltage limits\n",
    "constraints += [V >= (v_min**2), V <= (v_max**2)]\n",
    "\n",
    "# Squared line current limits\n",
    "constraints += [L <= (I_max**2)]\n",
    "\n",
    "# Boundary condition for power line flows\n",
    "constraints += [P[0,0] == 0, Q[0,0] == 0]\n",
    "\n",
    "# Boundary condition for squared line current\n",
    "constraints += [L[0,0] == 0]\n",
    "\n",
    "# Fix node 0 voltage to be 1 \"per unit\" (p.u.)\n",
    "constraints += [V[0] == 1]\n",
    "\n",
    "# Loop over each node\n",
    "for jj in j_idx:\n",
    "    \n",
    "    # Non-negative power generation and flows\n",
    "    constraints += [p[jj] >= 0]\n",
    "    constraints += [q[jj] >= 0]\n",
    "    \n",
    "    # Parent node, i = \\rho(j)\n",
    "    i = int(rho[jj])\n",
    "    \n",
    "    # Line Power Flows\n",
    "    constraints += [P[i,jj] == (l_P[jj] - p[jj]) + (r[i,jj] * L[i,jj]) + (A[jj,:] @ P[jj,:])]\n",
    "    constraints += [Q[i,jj] == (l_Q[jj] - q[jj]) + (x[i,jj] * L[i,jj]) + (A[jj,:] @ Q[jj,:])]\n",
    "\n",
    "    # Nodal voltage\n",
    "    constraints += [V[jj] == V[i] + (((r[i,jj]**2) + (x[i,jj]**2))*L[i,jj]) - (2*((r[i,jj]*P[i,jj]) + (x[i,jj]*Q[i,jj])))]\n",
    "    \n",
    "    # Squared current magnitude on lines\n",
    "    constraints += [L[i,jj] >= quad_over_lin(vstack([P[i,jj], Q[i,jj]]), V[jj])]\n",
    "   \n",
    "    # Compute apparent power from active & reactive power\n",
    "    constraints += [s[jj] >= norm(vstack([p[jj], q[jj]]))]    \n",
    "\n",
    "# Define problem and solve\n",
    "prob4 = Problem(objective, constraints)\n",
    "prob4.solve()\n",
    "\n",
    "# Output Results\n",
    "print(\"------------------- PROBLEM 4 --------------------\")\n",
    "print(\"--------------------------------------------------\")\n",
    "print(prob4.status)\n",
    "print(\"Minimum Generating Cost : %4.2f\"%(prob4.value),\"USD\")\n",
    "print(\" \")\n",
    "print(\"Node 0 [Grid]  Gen Power : p_0 = %1.3f\"%(p[0].value), \"MW | q_0 = %1.3f\"%(q[0].value), \"MW | s_0 = %1.3f\"%(s[0].value),\"MW || mu_s0 = %3.0f\"%(constraints[0].dual_value[0]), \"USD/MW\")\n",
    "print(\"Node 3 [Gas]   Gen Power : p_3 = %1.3f\"%(p[3].value), \"MW | q_3 = %1.3f\"%(q[3].value), \"MW | s_3 = %1.3f\"%(s[3].value),\"MW || mu_s4 = %3.0f\"%(constraints[0].dual_value[3]), \"USD/MW\")\n",
    "print(\"Node 9 [Solar] Gen Power : p_9 = %1.3f\"%(p[9].value), \"MW | q_9 = %1.3f\"%(q[9].value), \"MW | s_9 = %1.3f\"%(s[9].value),\"MW || mu_s9 = %3.0f\"%(constraints[0].dual_value[9]), \"USD/MW\")\n",
    "print(\" \")\n",
    "print(\"Total active power   : %1.3f\"%(np.sum(l_P)),\"MW   consumed | %1.3f\"%(np.sum(p.value)),\"MW   generated\")\n",
    "print(\"Total reactive power : %1.3f\"%(np.sum(l_Q)),\"MVAr consumed | %1.3f\"%(np.sum(q.value)),\"MVAr generated\")\n",
    "print(\"Total apparent power : %1.3f\"%(np.sum(l_S)),\"MVA  consumed | %1.3f\"%(np.sum(s.value)),\"MVA  generated\")\n",
    "print(\" \")\n",
    "for jj in j_idx:\n",
    "    print(\"Node %2.0f\"%(jj), \"Voltage : %1.3f\"%((V[jj].value)**0.5), \"p.u.\")"
   ]
  },
  {
   "cell_type": "code",
   "execution_count": 58,
   "metadata": {},
   "outputs": [
    {
     "name": "stdout",
     "output_type": "stream",
     "text": [
      "active voltage constraints: []\n",
      "active current constraints: [((0, 0), 140.2340489930906), ((8, 9), 22.518372443497622)]\n"
     ]
    }
   ],
   "source": [
    "# Voltage constraint\n",
    "vol_con = 1\n",
    "vol_con_act = [(jj, constraints[vol_con].dual_value[jj]) for jj in j_idx if constraints[vol_con].dual_value[jj] > 0.0001]\n",
    "print(\"active voltage constraints:\", vol_con_act)\n",
    "\n",
    "# Current constraint\n",
    "cur_con = 3\n",
    "cur_con_act = [((int(rho[jj]), jj), constraints[cur_con].dual_value[int(rho[jj]), jj]) for jj in j_idx if constraints[cur_con].dual_value[int(rho[jj]), jj] > 0.0001]\n",
    "print(\"active current constraints:\", cur_con_act)"
   ]
  },
  {
   "cell_type": "code",
   "execution_count": 25,
   "metadata": {},
   "outputs": [
    {
     "name": "stdout",
     "output_type": "stream",
     "text": [
      "------------------- PROBLEM 4 --------------------\n",
      "--------------------------------------------------\n",
      "optimal\n",
      "Minimum Generating Cost : 348.67 USD\n",
      " \n",
      "Node 0 [Grid]  Gen Power : p_0 = 0.940 MW | q_0 = 0.174 MW | s_0 = 0.956 MW || mu_s0 =   0 USD/MW\n",
      "Node 3 [Gas]   Gen Power : p_3 = 0.760 MW | q_3 = 0.518 MW | s_3 = 0.920 MW || mu_s4 =   0 USD/MW\n",
      "Node 9 [Solar] Gen Power : p_9 = 1.789 MW | q_9 = 1.450 MW | s_9 = 2.303 MW || mu_s9 =   0 USD/MW\n",
      " \n",
      "Total active power   : 3.466 MW   consumed | 3.489 MW   generated\n",
      "Total reactive power : 2.102 MVAr consumed | 2.142 MVAr generated\n",
      "Total apparent power : 4.063 MVA  consumed | 4.178 MVA  generated\n",
      " \n",
      "Node  0 Voltage : 1.000 p.u.\n",
      "Node  1 Voltage : 0.989 p.u.\n",
      "Node  2 Voltage : 0.992 p.u.\n",
      "Node  3 Voltage : 0.992 p.u.\n",
      "Node  4 Voltage : 0.984 p.u.\n",
      "Node  5 Voltage : 0.983 p.u.\n",
      "Node  6 Voltage : 0.984 p.u.\n",
      "Node  7 Voltage : 0.984 p.u.\n",
      "Node  8 Voltage : 0.984 p.u.\n",
      "Node  9 Voltage : 0.991 p.u.\n",
      "Node 10 Voltage : 0.982 p.u.\n",
      "Node 11 Voltage : 0.981 p.u.\n",
      "Node 12 Voltage : 0.980 p.u.\n"
     ]
    }
   ],
   "source": [
    "# Assumptions:\n",
    "#   - Add back all previously disregarded terms and constraints\n",
    "#   - Relax squared line current and apparent power generation equations into inequalities\n",
    "#   - Goal is to minimize generation costs, given by c^T s\n",
    "\n",
    "# Solve with CVXPY\n",
    "\n",
    "# Define optimization vars\n",
    "p = Variable(13)\n",
    "q = Variable(13)\n",
    "s = Variable(13)\n",
    "P = Variable((13, 13))\n",
    "Q = Variable((13, 13))\n",
    "V = Variable(13)\n",
    "L = Variable((13, 13))\n",
    "\n",
    "# Define objective function\n",
    "objective = Minimize(c.T @ s)\n",
    "\n",
    "# Define constraints\n",
    "# Apparent Power Limits\n",
    "constraints = [s <= s_max]\n",
    "\n",
    "# Nodal voltage limits\n",
    "constraints += [V >= (v_min**2), V <= (v_max**2)]\n",
    "\n",
    "# Squared line current limits\n",
    "constraints += [L <= (I_max**2)]\n",
    "\n",
    "# Boundary condition for power line flows\n",
    "constraints += [P[0,0] == 0, Q[0,0] == 0]\n",
    "\n",
    "# Boundary condition for squared line current\n",
    "constraints += [L[0,0] == 0]\n",
    "\n",
    "# Fix node 0 voltage to be 1 \"per unit\" (p.u.)\n",
    "constraints += [V[0] == 1]\n",
    "\n",
    "# Loop over each node\n",
    "for jj in j_idx:\n",
    "    \n",
    "    # Non-negative power generation and flows\n",
    "    constraints += [p[jj] >= 0]\n",
    "    constraints += [q[jj] >= 0]\n",
    "    \n",
    "    # Parent node, i = \\rho(j)\n",
    "    i = int(rho[jj])\n",
    "    \n",
    "    # Line Power Flows\n",
    "    constraints += [P[i,jj] == (l_P[jj] - p[jj]) + (r[i,jj] * L[i,jj]) + (A[jj,:] @ P[jj,:])]\n",
    "    constraints += [Q[i,jj] == (l_Q[jj] - q[jj]) + (x[i,jj] * L[i,jj]) + (A[jj,:] @ Q[jj,:])]\n",
    "\n",
    "    # Nodal voltage\n",
    "    constraints += [V[jj] == V[i] + (((r[i,jj]**2) + (x[i,jj]**2))*L[i,jj]) - (2*((r[i,jj]*P[i,jj]) + (x[i,jj]*Q[i,jj])))]\n",
    "    \n",
    "    # Squared current magnitude on lines\n",
    "    constraints += [L[i,jj] >= quad_over_lin(vstack([P[i,jj], Q[i,jj]]), V[jj])]\n",
    "   \n",
    "    # Compute apparent power from active & reactive power\n",
    "    constraints += [s[jj] >= norm(vstack([p[jj], q[jj]]))]    \n",
    "\n",
    "# Define problem and solve\n",
    "prob4 = Problem(objective, constraints)\n",
    "prob4.solve()\n",
    "\n",
    "# Output Results\n",
    "print(\"------------------- PROBLEM 4 --------------------\")\n",
    "print(\"--------------------------------------------------\")\n",
    "print(prob4.status)\n",
    "print(\"Minimum Generating Cost : %4.2f\"%(prob4.value),\"USD\")\n",
    "print(\" \")\n",
    "print(\"Node 0 [Grid]  Gen Power : p_0 = %1.3f\"%(p[0].value), \"MW | q_0 = %1.3f\"%(q[0].value), \"MW | s_0 = %1.3f\"%(s[0].value),\"MW || mu_s0 = %3.0f\"%(constraints[0].dual_value[0]), \"USD/MW\")\n",
    "print(\"Node 3 [Gas]   Gen Power : p_3 = %1.3f\"%(p[3].value), \"MW | q_3 = %1.3f\"%(q[3].value), \"MW | s_3 = %1.3f\"%(s[3].value),\"MW || mu_s4 = %3.0f\"%(constraints[0].dual_value[3]), \"USD/MW\")\n",
    "print(\"Node 9 [Solar] Gen Power : p_9 = %1.3f\"%(p[9].value), \"MW | q_9 = %1.3f\"%(q[9].value), \"MW | s_9 = %1.3f\"%(s[9].value),\"MW || mu_s9 = %3.0f\"%(constraints[0].dual_value[9]), \"USD/MW\")\n",
    "print(\" \")\n",
    "print(\"Total active power   : %1.3f\"%(np.sum(l_P)),\"MW   consumed | %1.3f\"%(np.sum(p.value)),\"MW   generated\")\n",
    "print(\"Total reactive power : %1.3f\"%(np.sum(l_Q)),\"MVAr consumed | %1.3f\"%(np.sum(q.value)),\"MVAr generated\")\n",
    "print(\"Total apparent power : %1.3f\"%(np.sum(l_S)),\"MVA  consumed | %1.3f\"%(np.sum(s.value)),\"MVA  generated\")\n",
    "print(\" \")\n",
    "for jj in j_idx:\n",
    "    print(\"Node %2.0f\"%(jj), \"Voltage : %1.3f\"%((V[jj].value)**0.5), \"p.u.\")"
   ]
  },
  {
   "cell_type": "markdown",
   "metadata": {},
   "source": [
    "### Problem 5: Robust Economic Dispatch with Renewables"
   ]
  },
  {
   "cell_type": "code",
   "execution_count": 61,
   "metadata": {},
   "outputs": [
    {
     "name": "stdout",
     "output_type": "stream",
     "text": [
      "------------------- PROBLEM 5 --------------------\n",
      "--------------------------------------------------\n",
      "optimal\n",
      "Minimum Generating Cost : 308.72 USD\n",
      " \n",
      "Node 0 [Grid]  Gen Power : p_0 = 1.745 MW | q_0 = 1.006 MW | s_0 = 2.014 MW || mu_s0 =   0 USD/MW\n",
      "Node 3 [Gas]   Gen Power : p_3 = 0.000 MW | q_3 = 0.000 MW | s_3 = -0.000 MW || mu_s4 =   0 USD/MW\n",
      "Node 9 [Solar] Gen Power : p_9 = 1.770 MW | q_9 = 1.215 MW | s_9 = 2.146 MW || mu_s9 =   0 USD/MW\n",
      " \n",
      "Total active power   : 3.466 MW   consumed | 3.514 MW   generated\n",
      "Total reactive power : 2.102 MVAr consumed | 2.221 MVAr generated\n",
      "Total apparent power : 4.063 MVA  consumed | 4.160 MVA  generated\n",
      " \n",
      "Node  0 Voltage : 1.000 p.u.\n",
      "Node  1 Voltage : 0.965 p.u.\n",
      "Node  2 Voltage : 0.961 p.u.\n",
      "Node  3 Voltage : 0.961 p.u.\n",
      "Node  4 Voltage : 0.960 p.u.\n",
      "Node  5 Voltage : 0.958 p.u.\n",
      "Node  6 Voltage : 0.954 p.u.\n",
      "Node  7 Voltage : 0.954 p.u.\n",
      "Node  8 Voltage : 0.954 p.u.\n",
      "Node  9 Voltage : 0.960 p.u.\n",
      "Node 10 Voltage : 0.952 p.u.\n",
      "Node 11 Voltage : 0.951 p.u.\n",
      "Node 12 Voltage : 0.950 p.u.\n"
     ]
    }
   ],
   "source": [
    "# Assumptions:\n",
    "#   - Assume solar generator at node 9 has uncertain power capacity\n",
    "#   - Goal is to minimize generation costs, given by c^T s, in face of uncertainty\n",
    "\n",
    "# Solve with CVXPY\n",
    "\n",
    "# Define optimization vars\n",
    "p = Variable(13)\n",
    "q = Variable(13)\n",
    "s = Variable(13)\n",
    "P = Variable((13, 13))\n",
    "Q = Variable((13, 13))\n",
    "V = Variable(13)\n",
    "L = Variable((13, 13))\n",
    "sig = Variable(2)\n",
    "\n",
    "# Define objective function\n",
    "objective = Minimize(c.T @ s)\n",
    "\n",
    "# Define constraints\n",
    "# Apparent Power Limits\n",
    "constraints = [s <= s_max]\n",
    "\n",
    "# Nodal voltage limits\n",
    "constraints += [V >= (v_min**2), V <= (v_max**2)]\n",
    "\n",
    "# Squared line current limits\n",
    "constraints += [L <= (I_max**2)]\n",
    "\n",
    "# Solar panels percentage output\n",
    "constraints += [sig >= 0, sig <= 1]\n",
    "\n",
    "# Boundary condition for power line flows\n",
    "constraints += [P[0,0] == 0, Q[0,0] == 0]\n",
    "\n",
    "# Boundary condition for squared line current\n",
    "constraints += [L[0,0] == 0]\n",
    "\n",
    "# Fix node 0 voltage to be 1 \"per unit\" (p.u.)\n",
    "constraints += [V[0] == 1]\n",
    "\n",
    "# Loop over each node\n",
    "for jj in j_idx:\n",
    "    \n",
    "    # Non-negative power generation and flows\n",
    "    constraints += [p[jj] >= 0]\n",
    "    constraints += [q[jj] >= 0]\n",
    "    \n",
    "    # Parent node, i = \\rho(j)\n",
    "    i = int(rho[jj])\n",
    "    \n",
    "    # Line Power Flows\n",
    "    constraints += [P[i,jj] == (l_P[jj] - p[jj]) + (r[i,jj] * L[i,jj]) + (A[jj,:] @ P[jj,:])]\n",
    "    constraints += [Q[i,jj] == (l_Q[jj] - q[jj]) + (x[i,jj] * L[i,jj]) + (A[jj,:] @ Q[jj,:])]\n",
    "\n",
    "    # Nodal voltage\n",
    "    constraints += [V[jj] == V[i] + (((r[i,jj]**2) + (x[i,jj]**2))*L[i,jj]) - (2*((r[i,jj]*P[i,jj]) + (x[i,jj]*Q[i,jj])))]\n",
    "    \n",
    "    # Squared current magnitude on lines\n",
    "    constraints += [L[i,jj] >= quad_over_lin(vstack([P[i,jj], Q[i,jj]]), V[jj])]\n",
    "   \n",
    "    # Compute apparent power from active & reactive power\n",
    "    constraints += [s[jj] >= norm(vstack([p[jj], q[jj]]))]    \n",
    "\n",
    "# Solar panel constraints\n",
    "a_bar = np.array([-1.25, -1.25, 1])\n",
    "E = np.diag([0.25, 0.25, 0])\n",
    "y = vstack((sig[0], sig[1], s[9]))\n",
    "b = 0\n",
    "constraints += [a_bar.T@y + norm(E.T@y) <= 0]\n",
    "    \n",
    "# Define problem and solve\n",
    "prob4 = Problem(objective, constraints)\n",
    "prob4.solve()\n",
    "\n",
    "# Output Results\n",
    "print(\"------------------- PROBLEM 5 --------------------\")\n",
    "print(\"--------------------------------------------------\")\n",
    "print(prob4.status)\n",
    "print(\"Minimum Generating Cost : %4.2f\"%(prob4.value),\"USD\")\n",
    "print(\" \")\n",
    "print(\"Node 0 [Grid]  Gen Power : p_0 = %1.3f\"%(p[0].value), \"MW | q_0 = %1.3f\"%(q[0].value), \"MW | s_0 = %1.3f\"%(s[0].value),\"MW || mu_s0 = %3.0f\"%(constraints[0].dual_value[0]), \"USD/MW\")\n",
    "print(\"Node 3 [Gas]   Gen Power : p_3 = %1.3f\"%(p[3].value), \"MW | q_3 = %1.3f\"%(q[3].value), \"MW | s_3 = %1.3f\"%(s[3].value),\"MW || mu_s4 = %3.0f\"%(constraints[0].dual_value[3]), \"USD/MW\")\n",
    "print(\"Node 9 [Solar] Gen Power : p_9 = %1.3f\"%(p[9].value), \"MW | q_9 = %1.3f\"%(q[9].value), \"MW | s_9 = %1.3f\"%(s[9].value),\"MW || mu_s9 = %3.0f\"%(constraints[0].dual_value[9]), \"USD/MW\")\n",
    "print(\" \")\n",
    "print(\"Total active power   : %1.3f\"%(np.sum(l_P)),\"MW   consumed | %1.3f\"%(np.sum(p.value)),\"MW   generated\")\n",
    "print(\"Total reactive power : %1.3f\"%(np.sum(l_Q)),\"MVAr consumed | %1.3f\"%(np.sum(q.value)),\"MVAr generated\")\n",
    "print(\"Total apparent power : %1.3f\"%(np.sum(l_S)),\"MVA  consumed | %1.3f\"%(np.sum(s.value)),\"MVA  generated\")\n",
    "print(\" \")\n",
    "for jj in j_idx:\n",
    "    print(\"Node %2.0f\"%(jj), \"Voltage : %1.3f\"%((V[jj].value)**0.5), \"p.u.\")"
   ]
  }
 ],
 "metadata": {
  "kernelspec": {
   "display_name": "Python 3",
   "language": "python",
   "name": "python3"
  },
  "language_info": {
   "codemirror_mode": {
    "name": "ipython",
    "version": 3
   },
   "file_extension": ".py",
   "mimetype": "text/x-python",
   "name": "python",
   "nbconvert_exporter": "python",
   "pygments_lexer": "ipython3",
   "version": "3.8.2"
  }
 },
 "nbformat": 4,
 "nbformat_minor": 1
}
